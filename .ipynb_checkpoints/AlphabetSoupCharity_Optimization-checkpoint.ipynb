{
 "cells": [
  {
   "cell_type": "markdown",
   "metadata": {
    "id": "o6zooqdjdboX"
   },
   "source": [
    "## Preprocessing"
   ]
  },
  {
   "cell_type": "code",
   "execution_count": 1,
   "metadata": {
    "colab": {
     "base_uri": "https://localhost:8080/",
     "height": 206
    },
    "executionInfo": {
     "elapsed": 1033,
     "status": "ok",
     "timestamp": 1701039340173,
     "user": {
      "displayName": "Spencer Auslander",
      "userId": "15321343522112245559"
     },
     "user_tz": 300
    },
    "id": "PpSWvi8TdboZ",
    "outputId": "c733d84e-d2de-478d-bbf9-1733ae5969c2"
   },
   "outputs": [
    {
     "name": "stdout",
     "output_type": "stream",
     "text": [
      "WARNING:tensorflow:From C:\\Users\\Spencer Auslander\\anaconda3\\lib\\site-packages\\keras\\src\\losses.py:2976: The name tf.losses.sparse_softmax_cross_entropy is deprecated. Please use tf.compat.v1.losses.sparse_softmax_cross_entropy instead.\n",
      "\n"
     ]
    },
    {
     "data": {
      "text/html": [
       "<div>\n",
       "<style scoped>\n",
       "    .dataframe tbody tr th:only-of-type {\n",
       "        vertical-align: middle;\n",
       "    }\n",
       "\n",
       "    .dataframe tbody tr th {\n",
       "        vertical-align: top;\n",
       "    }\n",
       "\n",
       "    .dataframe thead th {\n",
       "        text-align: right;\n",
       "    }\n",
       "</style>\n",
       "<table border=\"1\" class=\"dataframe\">\n",
       "  <thead>\n",
       "    <tr style=\"text-align: right;\">\n",
       "      <th></th>\n",
       "      <th>EIN</th>\n",
       "      <th>NAME</th>\n",
       "      <th>APPLICATION_TYPE</th>\n",
       "      <th>AFFILIATION</th>\n",
       "      <th>CLASSIFICATION</th>\n",
       "      <th>USE_CASE</th>\n",
       "      <th>ORGANIZATION</th>\n",
       "      <th>STATUS</th>\n",
       "      <th>INCOME_AMT</th>\n",
       "      <th>SPECIAL_CONSIDERATIONS</th>\n",
       "      <th>ASK_AMT</th>\n",
       "      <th>IS_SUCCESSFUL</th>\n",
       "    </tr>\n",
       "  </thead>\n",
       "  <tbody>\n",
       "    <tr>\n",
       "      <th>0</th>\n",
       "      <td>10520599</td>\n",
       "      <td>BLUE KNIGHTS MOTORCYCLE CLUB</td>\n",
       "      <td>T10</td>\n",
       "      <td>Independent</td>\n",
       "      <td>C1000</td>\n",
       "      <td>ProductDev</td>\n",
       "      <td>Association</td>\n",
       "      <td>1</td>\n",
       "      <td>0</td>\n",
       "      <td>N</td>\n",
       "      <td>5000</td>\n",
       "      <td>1</td>\n",
       "    </tr>\n",
       "    <tr>\n",
       "      <th>1</th>\n",
       "      <td>10531628</td>\n",
       "      <td>AMERICAN CHESAPEAKE CLUB CHARITABLE TR</td>\n",
       "      <td>T3</td>\n",
       "      <td>Independent</td>\n",
       "      <td>C2000</td>\n",
       "      <td>Preservation</td>\n",
       "      <td>Co-operative</td>\n",
       "      <td>1</td>\n",
       "      <td>1-9999</td>\n",
       "      <td>N</td>\n",
       "      <td>108590</td>\n",
       "      <td>1</td>\n",
       "    </tr>\n",
       "    <tr>\n",
       "      <th>2</th>\n",
       "      <td>10547893</td>\n",
       "      <td>ST CLOUD PROFESSIONAL FIREFIGHTERS</td>\n",
       "      <td>T5</td>\n",
       "      <td>CompanySponsored</td>\n",
       "      <td>C3000</td>\n",
       "      <td>ProductDev</td>\n",
       "      <td>Association</td>\n",
       "      <td>1</td>\n",
       "      <td>0</td>\n",
       "      <td>N</td>\n",
       "      <td>5000</td>\n",
       "      <td>0</td>\n",
       "    </tr>\n",
       "    <tr>\n",
       "      <th>3</th>\n",
       "      <td>10553066</td>\n",
       "      <td>SOUTHSIDE ATHLETIC ASSOCIATION</td>\n",
       "      <td>T3</td>\n",
       "      <td>CompanySponsored</td>\n",
       "      <td>C2000</td>\n",
       "      <td>Preservation</td>\n",
       "      <td>Trust</td>\n",
       "      <td>1</td>\n",
       "      <td>10000-24999</td>\n",
       "      <td>N</td>\n",
       "      <td>6692</td>\n",
       "      <td>1</td>\n",
       "    </tr>\n",
       "    <tr>\n",
       "      <th>4</th>\n",
       "      <td>10556103</td>\n",
       "      <td>GENETIC RESEARCH INSTITUTE OF THE DESERT</td>\n",
       "      <td>T3</td>\n",
       "      <td>Independent</td>\n",
       "      <td>C1000</td>\n",
       "      <td>Heathcare</td>\n",
       "      <td>Trust</td>\n",
       "      <td>1</td>\n",
       "      <td>100000-499999</td>\n",
       "      <td>N</td>\n",
       "      <td>142590</td>\n",
       "      <td>1</td>\n",
       "    </tr>\n",
       "  </tbody>\n",
       "</table>\n",
       "</div>"
      ],
      "text/plain": [
       "        EIN                                      NAME APPLICATION_TYPE  \\\n",
       "0  10520599              BLUE KNIGHTS MOTORCYCLE CLUB              T10   \n",
       "1  10531628    AMERICAN CHESAPEAKE CLUB CHARITABLE TR               T3   \n",
       "2  10547893        ST CLOUD PROFESSIONAL FIREFIGHTERS               T5   \n",
       "3  10553066            SOUTHSIDE ATHLETIC ASSOCIATION               T3   \n",
       "4  10556103  GENETIC RESEARCH INSTITUTE OF THE DESERT               T3   \n",
       "\n",
       "        AFFILIATION CLASSIFICATION      USE_CASE  ORGANIZATION  STATUS  \\\n",
       "0       Independent          C1000    ProductDev   Association       1   \n",
       "1       Independent          C2000  Preservation  Co-operative       1   \n",
       "2  CompanySponsored          C3000    ProductDev   Association       1   \n",
       "3  CompanySponsored          C2000  Preservation         Trust       1   \n",
       "4       Independent          C1000     Heathcare         Trust       1   \n",
       "\n",
       "      INCOME_AMT SPECIAL_CONSIDERATIONS  ASK_AMT  IS_SUCCESSFUL  \n",
       "0              0                      N     5000              1  \n",
       "1         1-9999                      N   108590              1  \n",
       "2              0                      N     5000              0  \n",
       "3    10000-24999                      N     6692              1  \n",
       "4  100000-499999                      N   142590              1  "
      ]
     },
     "execution_count": 1,
     "metadata": {},
     "output_type": "execute_result"
    }
   ],
   "source": [
    "# Import our dependencies\n",
    "from sklearn.model_selection import train_test_split\n",
    "from sklearn.preprocessing import StandardScaler\n",
    "import pandas as pd\n",
    "import tensorflow as tf\n",
    "\n",
    "#  Import and read the charity_data.csv.\n",
    "import pandas as pd\n",
    "application_df = pd.read_csv(\"https://static.bc-edx.com/data/dl-1-2/m21/lms/starter/charity_data.csv\")\n",
    "application_df.head()"
   ]
  },
  {
   "cell_type": "code",
   "execution_count": 2,
   "metadata": {
    "colab": {
     "base_uri": "https://localhost:8080/",
     "height": 424
    },
    "executionInfo": {
     "elapsed": 5,
     "status": "ok",
     "timestamp": 1701039340173,
     "user": {
      "displayName": "Spencer Auslander",
      "userId": "15321343522112245559"
     },
     "user_tz": 300
    },
    "id": "1_JYFPYzdboa",
    "outputId": "58d514cc-b999-40ee-fe13-71af3c47653a"
   },
   "outputs": [
    {
     "data": {
      "text/html": [
       "<div>\n",
       "<style scoped>\n",
       "    .dataframe tbody tr th:only-of-type {\n",
       "        vertical-align: middle;\n",
       "    }\n",
       "\n",
       "    .dataframe tbody tr th {\n",
       "        vertical-align: top;\n",
       "    }\n",
       "\n",
       "    .dataframe thead th {\n",
       "        text-align: right;\n",
       "    }\n",
       "</style>\n",
       "<table border=\"1\" class=\"dataframe\">\n",
       "  <thead>\n",
       "    <tr style=\"text-align: right;\">\n",
       "      <th></th>\n",
       "      <th>APPLICATION_TYPE</th>\n",
       "      <th>AFFILIATION</th>\n",
       "      <th>CLASSIFICATION</th>\n",
       "      <th>USE_CASE</th>\n",
       "      <th>ORGANIZATION</th>\n",
       "      <th>STATUS</th>\n",
       "      <th>INCOME_AMT</th>\n",
       "      <th>SPECIAL_CONSIDERATIONS</th>\n",
       "      <th>ASK_AMT</th>\n",
       "      <th>IS_SUCCESSFUL</th>\n",
       "    </tr>\n",
       "  </thead>\n",
       "  <tbody>\n",
       "    <tr>\n",
       "      <th>0</th>\n",
       "      <td>T10</td>\n",
       "      <td>Independent</td>\n",
       "      <td>C1000</td>\n",
       "      <td>ProductDev</td>\n",
       "      <td>Association</td>\n",
       "      <td>1</td>\n",
       "      <td>0</td>\n",
       "      <td>N</td>\n",
       "      <td>5000</td>\n",
       "      <td>1</td>\n",
       "    </tr>\n",
       "    <tr>\n",
       "      <th>1</th>\n",
       "      <td>T3</td>\n",
       "      <td>Independent</td>\n",
       "      <td>C2000</td>\n",
       "      <td>Preservation</td>\n",
       "      <td>Co-operative</td>\n",
       "      <td>1</td>\n",
       "      <td>1-9999</td>\n",
       "      <td>N</td>\n",
       "      <td>108590</td>\n",
       "      <td>1</td>\n",
       "    </tr>\n",
       "    <tr>\n",
       "      <th>2</th>\n",
       "      <td>T5</td>\n",
       "      <td>CompanySponsored</td>\n",
       "      <td>C3000</td>\n",
       "      <td>ProductDev</td>\n",
       "      <td>Association</td>\n",
       "      <td>1</td>\n",
       "      <td>0</td>\n",
       "      <td>N</td>\n",
       "      <td>5000</td>\n",
       "      <td>0</td>\n",
       "    </tr>\n",
       "    <tr>\n",
       "      <th>3</th>\n",
       "      <td>T3</td>\n",
       "      <td>CompanySponsored</td>\n",
       "      <td>C2000</td>\n",
       "      <td>Preservation</td>\n",
       "      <td>Trust</td>\n",
       "      <td>1</td>\n",
       "      <td>10000-24999</td>\n",
       "      <td>N</td>\n",
       "      <td>6692</td>\n",
       "      <td>1</td>\n",
       "    </tr>\n",
       "    <tr>\n",
       "      <th>4</th>\n",
       "      <td>T3</td>\n",
       "      <td>Independent</td>\n",
       "      <td>C1000</td>\n",
       "      <td>Heathcare</td>\n",
       "      <td>Trust</td>\n",
       "      <td>1</td>\n",
       "      <td>100000-499999</td>\n",
       "      <td>N</td>\n",
       "      <td>142590</td>\n",
       "      <td>1</td>\n",
       "    </tr>\n",
       "    <tr>\n",
       "      <th>...</th>\n",
       "      <td>...</td>\n",
       "      <td>...</td>\n",
       "      <td>...</td>\n",
       "      <td>...</td>\n",
       "      <td>...</td>\n",
       "      <td>...</td>\n",
       "      <td>...</td>\n",
       "      <td>...</td>\n",
       "      <td>...</td>\n",
       "      <td>...</td>\n",
       "    </tr>\n",
       "    <tr>\n",
       "      <th>34294</th>\n",
       "      <td>T4</td>\n",
       "      <td>Independent</td>\n",
       "      <td>C1000</td>\n",
       "      <td>ProductDev</td>\n",
       "      <td>Association</td>\n",
       "      <td>1</td>\n",
       "      <td>0</td>\n",
       "      <td>N</td>\n",
       "      <td>5000</td>\n",
       "      <td>0</td>\n",
       "    </tr>\n",
       "    <tr>\n",
       "      <th>34295</th>\n",
       "      <td>T4</td>\n",
       "      <td>CompanySponsored</td>\n",
       "      <td>C3000</td>\n",
       "      <td>ProductDev</td>\n",
       "      <td>Association</td>\n",
       "      <td>1</td>\n",
       "      <td>0</td>\n",
       "      <td>N</td>\n",
       "      <td>5000</td>\n",
       "      <td>0</td>\n",
       "    </tr>\n",
       "    <tr>\n",
       "      <th>34296</th>\n",
       "      <td>T3</td>\n",
       "      <td>CompanySponsored</td>\n",
       "      <td>C2000</td>\n",
       "      <td>Preservation</td>\n",
       "      <td>Association</td>\n",
       "      <td>1</td>\n",
       "      <td>0</td>\n",
       "      <td>N</td>\n",
       "      <td>5000</td>\n",
       "      <td>0</td>\n",
       "    </tr>\n",
       "    <tr>\n",
       "      <th>34297</th>\n",
       "      <td>T5</td>\n",
       "      <td>Independent</td>\n",
       "      <td>C3000</td>\n",
       "      <td>ProductDev</td>\n",
       "      <td>Association</td>\n",
       "      <td>1</td>\n",
       "      <td>0</td>\n",
       "      <td>N</td>\n",
       "      <td>5000</td>\n",
       "      <td>1</td>\n",
       "    </tr>\n",
       "    <tr>\n",
       "      <th>34298</th>\n",
       "      <td>T3</td>\n",
       "      <td>Independent</td>\n",
       "      <td>C1000</td>\n",
       "      <td>Preservation</td>\n",
       "      <td>Co-operative</td>\n",
       "      <td>1</td>\n",
       "      <td>1M-5M</td>\n",
       "      <td>N</td>\n",
       "      <td>36500179</td>\n",
       "      <td>0</td>\n",
       "    </tr>\n",
       "  </tbody>\n",
       "</table>\n",
       "<p>34299 rows × 10 columns</p>\n",
       "</div>"
      ],
      "text/plain": [
       "      APPLICATION_TYPE       AFFILIATION CLASSIFICATION      USE_CASE  \\\n",
       "0                  T10       Independent          C1000    ProductDev   \n",
       "1                   T3       Independent          C2000  Preservation   \n",
       "2                   T5  CompanySponsored          C3000    ProductDev   \n",
       "3                   T3  CompanySponsored          C2000  Preservation   \n",
       "4                   T3       Independent          C1000     Heathcare   \n",
       "...                ...               ...            ...           ...   \n",
       "34294               T4       Independent          C1000    ProductDev   \n",
       "34295               T4  CompanySponsored          C3000    ProductDev   \n",
       "34296               T3  CompanySponsored          C2000  Preservation   \n",
       "34297               T5       Independent          C3000    ProductDev   \n",
       "34298               T3       Independent          C1000  Preservation   \n",
       "\n",
       "       ORGANIZATION  STATUS     INCOME_AMT SPECIAL_CONSIDERATIONS   ASK_AMT  \\\n",
       "0       Association       1              0                      N      5000   \n",
       "1      Co-operative       1         1-9999                      N    108590   \n",
       "2       Association       1              0                      N      5000   \n",
       "3             Trust       1    10000-24999                      N      6692   \n",
       "4             Trust       1  100000-499999                      N    142590   \n",
       "...             ...     ...            ...                    ...       ...   \n",
       "34294   Association       1              0                      N      5000   \n",
       "34295   Association       1              0                      N      5000   \n",
       "34296   Association       1              0                      N      5000   \n",
       "34297   Association       1              0                      N      5000   \n",
       "34298  Co-operative       1          1M-5M                      N  36500179   \n",
       "\n",
       "       IS_SUCCESSFUL  \n",
       "0                  1  \n",
       "1                  1  \n",
       "2                  0  \n",
       "3                  1  \n",
       "4                  1  \n",
       "...              ...  \n",
       "34294              0  \n",
       "34295              0  \n",
       "34296              0  \n",
       "34297              1  \n",
       "34298              0  \n",
       "\n",
       "[34299 rows x 10 columns]"
      ]
     },
     "execution_count": 2,
     "metadata": {},
     "output_type": "execute_result"
    }
   ],
   "source": [
    "# Drop the non-beneficial ID columns, 'EIN' and 'NAME'.\n",
    "application_df = application_df.drop(columns = ['EIN', 'NAME'])\n",
    "application_df"
   ]
  },
  {
   "cell_type": "code",
   "execution_count": 3,
   "metadata": {
    "colab": {
     "base_uri": "https://localhost:8080/"
    },
    "executionInfo": {
     "elapsed": 4,
     "status": "ok",
     "timestamp": 1701039340173,
     "user": {
      "displayName": "Spencer Auslander",
      "userId": "15321343522112245559"
     },
     "user_tz": 300
    },
    "id": "S7Hqc5Xxdbob",
    "outputId": "6e2d5382-75d8-48a1-eaab-db181f451610"
   },
   "outputs": [
    {
     "data": {
      "text/plain": [
       "APPLICATION_TYPE            17\n",
       "AFFILIATION                  6\n",
       "CLASSIFICATION              71\n",
       "USE_CASE                     5\n",
       "ORGANIZATION                 4\n",
       "STATUS                       2\n",
       "INCOME_AMT                   9\n",
       "SPECIAL_CONSIDERATIONS       2\n",
       "ASK_AMT                   8747\n",
       "IS_SUCCESSFUL                2\n",
       "dtype: int64"
      ]
     },
     "execution_count": 3,
     "metadata": {},
     "output_type": "execute_result"
    }
   ],
   "source": [
    "# Determine the number of unique values in each column.\n",
    "application_df.nunique()"
   ]
  },
  {
   "cell_type": "code",
   "execution_count": 4,
   "metadata": {
    "colab": {
     "base_uri": "https://localhost:8080/"
    },
    "executionInfo": {
     "elapsed": 3,
     "status": "ok",
     "timestamp": 1701039340173,
     "user": {
      "displayName": "Spencer Auslander",
      "userId": "15321343522112245559"
     },
     "user_tz": 300
    },
    "id": "6iftqzY8dbob",
    "outputId": "2b5f7e58-ae41-4e93-88ce-6161dab01b1b"
   },
   "outputs": [
    {
     "data": {
      "text/plain": [
       "T3     27037\n",
       "T4      1542\n",
       "T6      1216\n",
       "T5      1173\n",
       "T19     1065\n",
       "T8       737\n",
       "T7       725\n",
       "T10      528\n",
       "T9       156\n",
       "T13       66\n",
       "T12       27\n",
       "T2        16\n",
       "T25        3\n",
       "T14        3\n",
       "T29        2\n",
       "T15        2\n",
       "T17        1\n",
       "Name: APPLICATION_TYPE, dtype: int64"
      ]
     },
     "execution_count": 4,
     "metadata": {},
     "output_type": "execute_result"
    }
   ],
   "source": [
    "# Look at APPLICATION_TYPE value counts for binning\n",
    "value_counts = application_df['APPLICATION_TYPE'].value_counts()\n",
    "value_counts"
   ]
  },
  {
   "cell_type": "code",
   "execution_count": 5,
   "metadata": {
    "colab": {
     "base_uri": "https://localhost:8080/"
    },
    "executionInfo": {
     "elapsed": 216,
     "status": "ok",
     "timestamp": 1701039340387,
     "user": {
      "displayName": "Spencer Auslander",
      "userId": "15321343522112245559"
     },
     "user_tz": 300
    },
    "id": "5h6dQg-edbob",
    "outputId": "3b351abf-a5b1-4fe7-eb9b-21e26167988a"
   },
   "outputs": [
    {
     "data": {
      "text/plain": [
       "['T9', 'T13', 'T12', 'T2', 'T25', 'T14', 'T29', 'T15', 'T17']"
      ]
     },
     "execution_count": 5,
     "metadata": {},
     "output_type": "execute_result"
    }
   ],
   "source": [
    "# Choose a cutoff value and create a list of application types to be replaced\n",
    "# use the variable name `application_types_to_replace`\n",
    "application_types_to_replace = list(value_counts[value_counts<527].index)\n",
    "application_types_to_replace"
   ]
  },
  {
   "cell_type": "code",
   "execution_count": 6,
   "metadata": {
    "colab": {
     "base_uri": "https://localhost:8080/"
    },
    "executionInfo": {
     "elapsed": 5,
     "status": "ok",
     "timestamp": 1701039340388,
     "user": {
      "displayName": "Spencer Auslander",
      "userId": "15321343522112245559"
     },
     "user_tz": 300
    },
    "id": "5J3JTmXpfduI",
    "outputId": "f4f89445-ca13-47bf-b8df-52dc4034af20"
   },
   "outputs": [
    {
     "data": {
      "text/plain": [
       "T3       27037\n",
       "T4        1542\n",
       "T6        1216\n",
       "T5        1173\n",
       "T19       1065\n",
       "T8         737\n",
       "T7         725\n",
       "T10        528\n",
       "Other      276\n",
       "Name: APPLICATION_TYPE, dtype: int64"
      ]
     },
     "execution_count": 6,
     "metadata": {},
     "output_type": "execute_result"
    }
   ],
   "source": [
    "\n",
    "# Replace in dataframe\n",
    "for app in application_types_to_replace:\n",
    "    application_df['APPLICATION_TYPE'] = application_df['APPLICATION_TYPE'].replace(app,\"Other\")\n",
    "\n",
    "# Check to make sure binning was successful\n",
    "application_df['APPLICATION_TYPE'].value_counts()"
   ]
  },
  {
   "cell_type": "code",
   "execution_count": 7,
   "metadata": {
    "colab": {
     "base_uri": "https://localhost:8080/"
    },
    "executionInfo": {
     "elapsed": 4,
     "status": "ok",
     "timestamp": 1701039340388,
     "user": {
      "displayName": "Spencer Auslander",
      "userId": "15321343522112245559"
     },
     "user_tz": 300
    },
    "id": "2GvRQS0cdbob",
    "outputId": "d01ee9c4-c87c-41ec-bdd6-a27bbd792d19"
   },
   "outputs": [
    {
     "data": {
      "text/plain": [
       "C1000    17326\n",
       "C2000     6074\n",
       "C1200     4837\n",
       "C3000     1918\n",
       "C2100     1883\n",
       "         ...  \n",
       "C4120        1\n",
       "C8210        1\n",
       "C2561        1\n",
       "C4500        1\n",
       "C2150        1\n",
       "Name: CLASSIFICATION, Length: 71, dtype: int64"
      ]
     },
     "execution_count": 7,
     "metadata": {},
     "output_type": "execute_result"
    }
   ],
   "source": [
    "# Look at CLASSIFICATION value counts for binning\n",
    "classification = application_df['CLASSIFICATION'].value_counts()\n",
    "classification"
   ]
  },
  {
   "cell_type": "code",
   "execution_count": 8,
   "metadata": {
    "colab": {
     "base_uri": "https://localhost:8080/"
    },
    "executionInfo": {
     "elapsed": 3,
     "status": "ok",
     "timestamp": 1701039340388,
     "user": {
      "displayName": "Spencer Auslander",
      "userId": "15321343522112245559"
     },
     "user_tz": 300
    },
    "id": "W2Xi2BLsdboc",
    "outputId": "127ed99e-1cd1-4e08-8448-d553eed1872e"
   },
   "outputs": [
    {
     "data": {
      "text/plain": [
       "C1000    17326\n",
       "C2000     6074\n",
       "C1200     4837\n",
       "C3000     1918\n",
       "C2100     1883\n",
       "C7000      777\n",
       "C1700      287\n",
       "C4000      194\n",
       "C5000      116\n",
       "C1270      114\n",
       "C2700      104\n",
       "C2800       95\n",
       "C7100       75\n",
       "C1300       58\n",
       "C1280       50\n",
       "C1230       36\n",
       "C1400       34\n",
       "C7200       32\n",
       "C2300       32\n",
       "C1240       30\n",
       "C8000       20\n",
       "C7120       18\n",
       "C1500       16\n",
       "C1800       15\n",
       "C6000       15\n",
       "C1250       14\n",
       "C8200       11\n",
       "C1238       10\n",
       "C1278       10\n",
       "C1235        9\n",
       "C1237        9\n",
       "C7210        7\n",
       "C2400        6\n",
       "C1720        6\n",
       "C4100        6\n",
       "C1257        5\n",
       "C1600        5\n",
       "C1260        3\n",
       "C2710        3\n",
       "C0           3\n",
       "C3200        2\n",
       "C1234        2\n",
       "C1246        2\n",
       "C1267        2\n",
       "C1256        2\n",
       "Name: CLASSIFICATION, dtype: int64"
      ]
     },
     "execution_count": 8,
     "metadata": {},
     "output_type": "execute_result"
    }
   ],
   "source": [
    "# You may find it helpful to look at CLASSIFICATION value counts >1\n",
    "classification2 = classification.loc[classification > 1]\n",
    "classification2"
   ]
  },
  {
   "cell_type": "code",
   "execution_count": 9,
   "metadata": {
    "colab": {
     "base_uri": "https://localhost:8080/"
    },
    "executionInfo": {
     "elapsed": 2,
     "status": "ok",
     "timestamp": 1701039340388,
     "user": {
      "displayName": "Spencer Auslander",
      "userId": "15321343522112245559"
     },
     "user_tz": 300
    },
    "id": "YUzKSrr9dboc",
    "outputId": "b2643f82-2f01-4200-c6ca-5edb4652c1c2"
   },
   "outputs": [
    {
     "data": {
      "text/plain": [
       "['C7000',\n",
       " 'C1700',\n",
       " 'C4000',\n",
       " 'C5000',\n",
       " 'C1270',\n",
       " 'C2700',\n",
       " 'C2800',\n",
       " 'C7100',\n",
       " 'C1300',\n",
       " 'C1280',\n",
       " 'C1230',\n",
       " 'C1400',\n",
       " 'C7200',\n",
       " 'C2300',\n",
       " 'C1240',\n",
       " 'C8000',\n",
       " 'C7120',\n",
       " 'C1500',\n",
       " 'C1800',\n",
       " 'C6000',\n",
       " 'C1250',\n",
       " 'C8200',\n",
       " 'C1238',\n",
       " 'C1278',\n",
       " 'C1235',\n",
       " 'C1237',\n",
       " 'C7210',\n",
       " 'C2400',\n",
       " 'C1720',\n",
       " 'C4100',\n",
       " 'C1257',\n",
       " 'C1600',\n",
       " 'C1260',\n",
       " 'C2710',\n",
       " 'C0',\n",
       " 'C3200',\n",
       " 'C1234',\n",
       " 'C1246',\n",
       " 'C1267',\n",
       " 'C1256',\n",
       " 'C2190',\n",
       " 'C4200',\n",
       " 'C2600',\n",
       " 'C5200',\n",
       " 'C1370',\n",
       " 'C1248',\n",
       " 'C6100',\n",
       " 'C1820',\n",
       " 'C1900',\n",
       " 'C1236',\n",
       " 'C3700',\n",
       " 'C2570',\n",
       " 'C1580',\n",
       " 'C1245',\n",
       " 'C2500',\n",
       " 'C1570',\n",
       " 'C1283',\n",
       " 'C2380',\n",
       " 'C1732',\n",
       " 'C1728',\n",
       " 'C2170',\n",
       " 'C4120',\n",
       " 'C8210',\n",
       " 'C2561',\n",
       " 'C4500',\n",
       " 'C2150']"
      ]
     },
     "execution_count": 9,
     "metadata": {},
     "output_type": "execute_result"
    }
   ],
   "source": [
    "# Choose a cutoff value and create a list of classifications to be replaced\n",
    "# use the variable name `classifications_to_replace`\n",
    "classifications_to_replace = list(classification[classification<1882].index)\n",
    "classifications_to_replace\n"
   ]
  },
  {
   "cell_type": "code",
   "execution_count": 10,
   "metadata": {
    "colab": {
     "base_uri": "https://localhost:8080/"
    },
    "executionInfo": {
     "elapsed": 124,
     "status": "ok",
     "timestamp": 1701039340510,
     "user": {
      "displayName": "Spencer Auslander",
      "userId": "15321343522112245559"
     },
     "user_tz": 300
    },
    "id": "_ei2AFkGhS9J",
    "outputId": "807b3e46-cced-43f6-80d8-5dcb53fc74e6"
   },
   "outputs": [
    {
     "data": {
      "text/plain": [
       "C1000    17326\n",
       "C2000     6074\n",
       "C1200     4837\n",
       "Other     2261\n",
       "C3000     1918\n",
       "C2100     1883\n",
       "Name: CLASSIFICATION, dtype: int64"
      ]
     },
     "execution_count": 10,
     "metadata": {},
     "output_type": "execute_result"
    }
   ],
   "source": [
    "# Replace in dataframe\n",
    "for cls in classifications_to_replace:\n",
    "    application_df['CLASSIFICATION'] = application_df['CLASSIFICATION'].replace(cls,\"Other\")\n",
    "\n",
    "# Check to make sure binning was successful\n",
    "application_df['CLASSIFICATION'].value_counts()"
   ]
  },
  {
   "cell_type": "code",
   "execution_count": 11,
   "metadata": {
    "colab": {
     "base_uri": "https://localhost:8080/",
     "height": 273
    },
    "executionInfo": {
     "elapsed": 3,
     "status": "ok",
     "timestamp": 1701039340510,
     "user": {
      "displayName": "Spencer Auslander",
      "userId": "15321343522112245559"
     },
     "user_tz": 300
    },
    "id": "5nn1SwIGdboc",
    "outputId": "bd7a01a5-07be-4974-fda4-5e5acd7c0ec5"
   },
   "outputs": [
    {
     "data": {
      "text/html": [
       "<div>\n",
       "<style scoped>\n",
       "    .dataframe tbody tr th:only-of-type {\n",
       "        vertical-align: middle;\n",
       "    }\n",
       "\n",
       "    .dataframe tbody tr th {\n",
       "        vertical-align: top;\n",
       "    }\n",
       "\n",
       "    .dataframe thead th {\n",
       "        text-align: right;\n",
       "    }\n",
       "</style>\n",
       "<table border=\"1\" class=\"dataframe\">\n",
       "  <thead>\n",
       "    <tr style=\"text-align: right;\">\n",
       "      <th></th>\n",
       "      <th>STATUS</th>\n",
       "      <th>ASK_AMT</th>\n",
       "      <th>IS_SUCCESSFUL</th>\n",
       "      <th>APPLICATION_TYPE_Other</th>\n",
       "      <th>APPLICATION_TYPE_T10</th>\n",
       "      <th>APPLICATION_TYPE_T19</th>\n",
       "      <th>APPLICATION_TYPE_T3</th>\n",
       "      <th>APPLICATION_TYPE_T4</th>\n",
       "      <th>APPLICATION_TYPE_T5</th>\n",
       "      <th>APPLICATION_TYPE_T6</th>\n",
       "      <th>...</th>\n",
       "      <th>INCOME_AMT_1-9999</th>\n",
       "      <th>INCOME_AMT_10000-24999</th>\n",
       "      <th>INCOME_AMT_100000-499999</th>\n",
       "      <th>INCOME_AMT_10M-50M</th>\n",
       "      <th>INCOME_AMT_1M-5M</th>\n",
       "      <th>INCOME_AMT_25000-99999</th>\n",
       "      <th>INCOME_AMT_50M+</th>\n",
       "      <th>INCOME_AMT_5M-10M</th>\n",
       "      <th>SPECIAL_CONSIDERATIONS_N</th>\n",
       "      <th>SPECIAL_CONSIDERATIONS_Y</th>\n",
       "    </tr>\n",
       "  </thead>\n",
       "  <tbody>\n",
       "    <tr>\n",
       "      <th>0</th>\n",
       "      <td>1</td>\n",
       "      <td>5000</td>\n",
       "      <td>1</td>\n",
       "      <td>0</td>\n",
       "      <td>1</td>\n",
       "      <td>0</td>\n",
       "      <td>0</td>\n",
       "      <td>0</td>\n",
       "      <td>0</td>\n",
       "      <td>0</td>\n",
       "      <td>...</td>\n",
       "      <td>0</td>\n",
       "      <td>0</td>\n",
       "      <td>0</td>\n",
       "      <td>0</td>\n",
       "      <td>0</td>\n",
       "      <td>0</td>\n",
       "      <td>0</td>\n",
       "      <td>0</td>\n",
       "      <td>1</td>\n",
       "      <td>0</td>\n",
       "    </tr>\n",
       "    <tr>\n",
       "      <th>1</th>\n",
       "      <td>1</td>\n",
       "      <td>108590</td>\n",
       "      <td>1</td>\n",
       "      <td>0</td>\n",
       "      <td>0</td>\n",
       "      <td>0</td>\n",
       "      <td>1</td>\n",
       "      <td>0</td>\n",
       "      <td>0</td>\n",
       "      <td>0</td>\n",
       "      <td>...</td>\n",
       "      <td>1</td>\n",
       "      <td>0</td>\n",
       "      <td>0</td>\n",
       "      <td>0</td>\n",
       "      <td>0</td>\n",
       "      <td>0</td>\n",
       "      <td>0</td>\n",
       "      <td>0</td>\n",
       "      <td>1</td>\n",
       "      <td>0</td>\n",
       "    </tr>\n",
       "    <tr>\n",
       "      <th>2</th>\n",
       "      <td>1</td>\n",
       "      <td>5000</td>\n",
       "      <td>0</td>\n",
       "      <td>0</td>\n",
       "      <td>0</td>\n",
       "      <td>0</td>\n",
       "      <td>0</td>\n",
       "      <td>0</td>\n",
       "      <td>1</td>\n",
       "      <td>0</td>\n",
       "      <td>...</td>\n",
       "      <td>0</td>\n",
       "      <td>0</td>\n",
       "      <td>0</td>\n",
       "      <td>0</td>\n",
       "      <td>0</td>\n",
       "      <td>0</td>\n",
       "      <td>0</td>\n",
       "      <td>0</td>\n",
       "      <td>1</td>\n",
       "      <td>0</td>\n",
       "    </tr>\n",
       "    <tr>\n",
       "      <th>3</th>\n",
       "      <td>1</td>\n",
       "      <td>6692</td>\n",
       "      <td>1</td>\n",
       "      <td>0</td>\n",
       "      <td>0</td>\n",
       "      <td>0</td>\n",
       "      <td>1</td>\n",
       "      <td>0</td>\n",
       "      <td>0</td>\n",
       "      <td>0</td>\n",
       "      <td>...</td>\n",
       "      <td>0</td>\n",
       "      <td>1</td>\n",
       "      <td>0</td>\n",
       "      <td>0</td>\n",
       "      <td>0</td>\n",
       "      <td>0</td>\n",
       "      <td>0</td>\n",
       "      <td>0</td>\n",
       "      <td>1</td>\n",
       "      <td>0</td>\n",
       "    </tr>\n",
       "    <tr>\n",
       "      <th>4</th>\n",
       "      <td>1</td>\n",
       "      <td>142590</td>\n",
       "      <td>1</td>\n",
       "      <td>0</td>\n",
       "      <td>0</td>\n",
       "      <td>0</td>\n",
       "      <td>1</td>\n",
       "      <td>0</td>\n",
       "      <td>0</td>\n",
       "      <td>0</td>\n",
       "      <td>...</td>\n",
       "      <td>0</td>\n",
       "      <td>0</td>\n",
       "      <td>1</td>\n",
       "      <td>0</td>\n",
       "      <td>0</td>\n",
       "      <td>0</td>\n",
       "      <td>0</td>\n",
       "      <td>0</td>\n",
       "      <td>1</td>\n",
       "      <td>0</td>\n",
       "    </tr>\n",
       "  </tbody>\n",
       "</table>\n",
       "<p>5 rows × 44 columns</p>\n",
       "</div>"
      ],
      "text/plain": [
       "   STATUS  ASK_AMT  IS_SUCCESSFUL  APPLICATION_TYPE_Other  \\\n",
       "0       1     5000              1                       0   \n",
       "1       1   108590              1                       0   \n",
       "2       1     5000              0                       0   \n",
       "3       1     6692              1                       0   \n",
       "4       1   142590              1                       0   \n",
       "\n",
       "   APPLICATION_TYPE_T10  APPLICATION_TYPE_T19  APPLICATION_TYPE_T3  \\\n",
       "0                     1                     0                    0   \n",
       "1                     0                     0                    1   \n",
       "2                     0                     0                    0   \n",
       "3                     0                     0                    1   \n",
       "4                     0                     0                    1   \n",
       "\n",
       "   APPLICATION_TYPE_T4  APPLICATION_TYPE_T5  APPLICATION_TYPE_T6  ...  \\\n",
       "0                    0                    0                    0  ...   \n",
       "1                    0                    0                    0  ...   \n",
       "2                    0                    1                    0  ...   \n",
       "3                    0                    0                    0  ...   \n",
       "4                    0                    0                    0  ...   \n",
       "\n",
       "   INCOME_AMT_1-9999  INCOME_AMT_10000-24999  INCOME_AMT_100000-499999  \\\n",
       "0                  0                       0                         0   \n",
       "1                  1                       0                         0   \n",
       "2                  0                       0                         0   \n",
       "3                  0                       1                         0   \n",
       "4                  0                       0                         1   \n",
       "\n",
       "   INCOME_AMT_10M-50M  INCOME_AMT_1M-5M  INCOME_AMT_25000-99999  \\\n",
       "0                   0                 0                       0   \n",
       "1                   0                 0                       0   \n",
       "2                   0                 0                       0   \n",
       "3                   0                 0                       0   \n",
       "4                   0                 0                       0   \n",
       "\n",
       "   INCOME_AMT_50M+  INCOME_AMT_5M-10M  SPECIAL_CONSIDERATIONS_N  \\\n",
       "0                0                  0                         1   \n",
       "1                0                  0                         1   \n",
       "2                0                  0                         1   \n",
       "3                0                  0                         1   \n",
       "4                0                  0                         1   \n",
       "\n",
       "   SPECIAL_CONSIDERATIONS_Y  \n",
       "0                         0  \n",
       "1                         0  \n",
       "2                         0  \n",
       "3                         0  \n",
       "4                         0  \n",
       "\n",
       "[5 rows x 44 columns]"
      ]
     },
     "execution_count": 11,
     "metadata": {},
     "output_type": "execute_result"
    }
   ],
   "source": [
    "# Convert categorical data to numeric with `pd.get_dummies`\n",
    "dummies_values = pd.get_dummies(application_df)\n",
    "dummies_values.head()"
   ]
  },
  {
   "cell_type": "code",
   "execution_count": 12,
   "metadata": {
    "executionInfo": {
     "elapsed": 166,
     "status": "ok",
     "timestamp": 1701039340674,
     "user": {
      "displayName": "Spencer Auslander",
      "userId": "15321343522112245559"
     },
     "user_tz": 300
    },
    "id": "_d2Z6t8bdbod"
   },
   "outputs": [],
   "source": [
    "# Split our preprocessed data into our features and target arrays\n",
    "X = dummies_values.drop('IS_SUCCESSFUL', axis=1).values\n",
    "y = dummies_values['IS_SUCCESSFUL'].values\n",
    "\n",
    "# Split the preprocessed data into a training and testing dataset\n",
    "X_train, X_test, y_train, y_test = train_test_split(X, y, random_state = 42)"
   ]
  },
  {
   "cell_type": "code",
   "execution_count": 13,
   "metadata": {
    "executionInfo": {
     "elapsed": 3,
     "status": "ok",
     "timestamp": 1701039340674,
     "user": {
      "displayName": "Spencer Auslander",
      "userId": "15321343522112245559"
     },
     "user_tz": 300
    },
    "id": "cqQyTRitdbod"
   },
   "outputs": [],
   "source": [
    "# Create a StandardScaler instances\n",
    "scaler = StandardScaler()\n",
    "\n",
    "# Fit the StandardScaler\n",
    "X_scaler = scaler.fit(X_train)\n",
    "\n",
    "# Scale the data\n",
    "X_train_scaled = X_scaler.transform(X_train)\n",
    "X_test_scaled = X_scaler.transform(X_test)"
   ]
  },
  {
   "cell_type": "markdown",
   "metadata": {
    "id": "inUUXUF4dbod"
   },
   "source": [
    "## Compile, Train and Evaluate the Model"
   ]
  },
  {
   "cell_type": "markdown",
   "metadata": {
    "id": "w38uav_psrOI"
   },
   "source": [
    "**First Attempt**"
   ]
  },
  {
   "cell_type": "code",
   "execution_count": 14,
   "metadata": {
    "colab": {
     "base_uri": "https://localhost:8080/"
    },
    "executionInfo": {
     "elapsed": 3,
     "status": "ok",
     "timestamp": 1701039340674,
     "user": {
      "displayName": "Spencer Auslander",
      "userId": "15321343522112245559"
     },
     "user_tz": 300
    },
    "id": "T01uQpvpdbod",
    "outputId": "c01097b1-3492-452d-c6ea-ca2528313cc9"
   },
   "outputs": [
    {
     "data": {
      "text/plain": [
       "43"
      ]
     },
     "execution_count": 14,
     "metadata": {},
     "output_type": "execute_result"
    }
   ],
   "source": [
    "# Define the model - deep neural net, i.e., the number of input features and hidden nodes for each layer.\n",
    "input_features1 = X_train_scaled.shape[1]\n",
    "input_features1"
   ]
  },
  {
   "cell_type": "code",
   "execution_count": 15,
   "metadata": {
    "colab": {
     "base_uri": "https://localhost:8080/"
    },
    "executionInfo": {
     "elapsed": 116,
     "status": "ok",
     "timestamp": 1701039340788,
     "user": {
      "displayName": "Spencer Auslander",
      "userId": "15321343522112245559"
     },
     "user_tz": 300
    },
    "id": "_xyhEZoJjm6Q",
    "outputId": "9940cff1-00af-474d-8fcb-9158bb371935"
   },
   "outputs": [
    {
     "name": "stdout",
     "output_type": "stream",
     "text": [
      "WARNING:tensorflow:From C:\\Users\\Spencer Auslander\\anaconda3\\lib\\site-packages\\keras\\src\\backend.py:873: The name tf.get_default_graph is deprecated. Please use tf.compat.v1.get_default_graph instead.\n",
      "\n",
      "Model: \"sequential\"\n",
      "_________________________________________________________________\n",
      " Layer (type)                Output Shape              Param #   \n",
      "=================================================================\n",
      " dense (Dense)               (None, 8)                 352       \n",
      "                                                                 \n",
      " dense_1 (Dense)             (None, 5)                 45        \n",
      "                                                                 \n",
      " dense_2 (Dense)             (None, 1)                 6         \n",
      "                                                                 \n",
      "=================================================================\n",
      "Total params: 403 (1.57 KB)\n",
      "Trainable params: 403 (1.57 KB)\n",
      "Non-trainable params: 0 (0.00 Byte)\n",
      "_________________________________________________________________\n"
     ]
    }
   ],
   "source": [
    "hidden_nodes_layerfirst1 =  8\n",
    "hidden_nodes_layerfirst2 = 5\n",
    "nn = tf.keras.models.Sequential()\n",
    "\n",
    "# First hidden layer\n",
    "nn.add(tf.keras.layers.Dense(units=hidden_nodes_layerfirst1, activation=\"relu\", input_dim=input_features1))\n",
    "\n",
    "# Second hidden layer\n",
    "nn.add(tf.keras.layers.Dense(units=hidden_nodes_layerfirst2, activation=\"relu\"))\n",
    "\n",
    "# Output layer\n",
    "nn.add(tf.keras.layers.Dense(units=1, activation=\"sigmoid\"))\n",
    "\n",
    "# Check the structure of the model\n",
    "nn.summary()"
   ]
  },
  {
   "cell_type": "code",
   "execution_count": 16,
   "metadata": {
    "executionInfo": {
     "elapsed": 1,
     "status": "ok",
     "timestamp": 1701039340788,
     "user": {
      "displayName": "Spencer Auslander",
      "userId": "15321343522112245559"
     },
     "user_tz": 300
    },
    "id": "bGYpUCmsdbod"
   },
   "outputs": [
    {
     "name": "stdout",
     "output_type": "stream",
     "text": [
      "WARNING:tensorflow:From C:\\Users\\Spencer Auslander\\anaconda3\\lib\\site-packages\\keras\\src\\optimizers\\__init__.py:309: The name tf.train.Optimizer is deprecated. Please use tf.compat.v1.train.Optimizer instead.\n",
      "\n"
     ]
    }
   ],
   "source": [
    "# Compile the model\n",
    "nn.compile(loss=\"binary_crossentropy\", optimizer=\"adam\", metrics=[\"accuracy\"])"
   ]
  },
  {
   "cell_type": "code",
   "execution_count": 17,
   "metadata": {
    "colab": {
     "base_uri": "https://localhost:8080/"
    },
    "id": "185oM5tydbod",
    "outputId": "e0bcebab-4f27-4965-9bca-14d197df6dca"
   },
   "outputs": [
    {
     "name": "stdout",
     "output_type": "stream",
     "text": [
      "Epoch 1/100\n",
      "WARNING:tensorflow:From C:\\Users\\Spencer Auslander\\anaconda3\\lib\\site-packages\\keras\\src\\utils\\tf_utils.py:492: The name tf.ragged.RaggedTensorValue is deprecated. Please use tf.compat.v1.ragged.RaggedTensorValue instead.\n",
      "\n",
      "WARNING:tensorflow:From C:\\Users\\Spencer Auslander\\anaconda3\\lib\\site-packages\\keras\\src\\engine\\base_layer_utils.py:384: The name tf.executing_eagerly_outside_functions is deprecated. Please use tf.compat.v1.executing_eagerly_outside_functions instead.\n",
      "\n",
      "804/804 [==============================] - 1s 666us/step - loss: 0.6039 - accuracy: 0.7008\n",
      "Epoch 2/100\n",
      "804/804 [==============================] - 1s 648us/step - loss: 0.5647 - accuracy: 0.7256\n",
      "Epoch 3/100\n",
      "804/804 [==============================] - 1s 645us/step - loss: 0.5592 - accuracy: 0.7285\n",
      "Epoch 4/100\n",
      "804/804 [==============================] - 1s 647us/step - loss: 0.5569 - accuracy: 0.7297\n",
      "Epoch 5/100\n",
      "804/804 [==============================] - 1s 649us/step - loss: 0.5550 - accuracy: 0.7300\n",
      "Epoch 6/100\n",
      "804/804 [==============================] - 1s 644us/step - loss: 0.5539 - accuracy: 0.7301\n",
      "Epoch 7/100\n",
      "804/804 [==============================] - 1s 654us/step - loss: 0.5534 - accuracy: 0.7303\n",
      "Epoch 8/100\n",
      "804/804 [==============================] - 1s 648us/step - loss: 0.5525 - accuracy: 0.7305\n",
      "Epoch 9/100\n",
      "804/804 [==============================] - 1s 645us/step - loss: 0.5521 - accuracy: 0.7305\n",
      "Epoch 10/100\n",
      "804/804 [==============================] - 1s 647us/step - loss: 0.5516 - accuracy: 0.7301\n",
      "Epoch 11/100\n",
      "804/804 [==============================] - 1s 644us/step - loss: 0.5513 - accuracy: 0.7304\n",
      "Epoch 12/100\n",
      "804/804 [==============================] - 1s 645us/step - loss: 0.5511 - accuracy: 0.7300\n",
      "Epoch 13/100\n",
      "804/804 [==============================] - 1s 643us/step - loss: 0.5507 - accuracy: 0.7299\n",
      "Epoch 14/100\n",
      "804/804 [==============================] - 1s 645us/step - loss: 0.5509 - accuracy: 0.7303\n",
      "Epoch 15/100\n",
      "804/804 [==============================] - 1s 648us/step - loss: 0.5503 - accuracy: 0.7306\n",
      "Epoch 16/100\n",
      "804/804 [==============================] - 1s 644us/step - loss: 0.5505 - accuracy: 0.7307\n",
      "Epoch 17/100\n",
      "804/804 [==============================] - 1s 656us/step - loss: 0.5500 - accuracy: 0.7308\n",
      "Epoch 18/100\n",
      "804/804 [==============================] - 1s 645us/step - loss: 0.5498 - accuracy: 0.7301\n",
      "Epoch 19/100\n",
      "804/804 [==============================] - 1s 651us/step - loss: 0.5493 - accuracy: 0.7306\n",
      "Epoch 20/100\n",
      "804/804 [==============================] - 1s 644us/step - loss: 0.5495 - accuracy: 0.7306\n",
      "Epoch 21/100\n",
      "804/804 [==============================] - 1s 643us/step - loss: 0.5491 - accuracy: 0.7301\n",
      "Epoch 22/100\n",
      "804/804 [==============================] - 1s 643us/step - loss: 0.5493 - accuracy: 0.7310\n",
      "Epoch 23/100\n",
      "804/804 [==============================] - 1s 644us/step - loss: 0.5493 - accuracy: 0.7310\n",
      "Epoch 24/100\n",
      "804/804 [==============================] - 1s 667us/step - loss: 0.5486 - accuracy: 0.7303\n",
      "Epoch 25/100\n",
      "804/804 [==============================] - 1s 662us/step - loss: 0.5487 - accuracy: 0.7313\n",
      "Epoch 26/100\n",
      "804/804 [==============================] - 1s 672us/step - loss: 0.5489 - accuracy: 0.7307\n",
      "Epoch 27/100\n",
      "804/804 [==============================] - 1s 670us/step - loss: 0.5484 - accuracy: 0.7311\n",
      "Epoch 28/100\n",
      "804/804 [==============================] - 1s 660us/step - loss: 0.5485 - accuracy: 0.7307\n",
      "Epoch 29/100\n",
      "804/804 [==============================] - 1s 671us/step - loss: 0.5485 - accuracy: 0.7312\n",
      "Epoch 30/100\n",
      "804/804 [==============================] - 1s 655us/step - loss: 0.5481 - accuracy: 0.7310\n",
      "Epoch 31/100\n",
      "804/804 [==============================] - 1s 646us/step - loss: 0.5483 - accuracy: 0.7310\n",
      "Epoch 32/100\n",
      "804/804 [==============================] - 1s 656us/step - loss: 0.5481 - accuracy: 0.7309\n",
      "Epoch 33/100\n",
      "804/804 [==============================] - 1s 672us/step - loss: 0.5477 - accuracy: 0.7313\n",
      "Epoch 34/100\n",
      "804/804 [==============================] - 1s 663us/step - loss: 0.5478 - accuracy: 0.7315\n",
      "Epoch 35/100\n",
      "804/804 [==============================] - 1s 666us/step - loss: 0.5475 - accuracy: 0.7320\n",
      "Epoch 36/100\n",
      "804/804 [==============================] - 1s 671us/step - loss: 0.5477 - accuracy: 0.7318\n",
      "Epoch 37/100\n",
      "804/804 [==============================] - 1s 654us/step - loss: 0.5476 - accuracy: 0.7305\n",
      "Epoch 38/100\n",
      "804/804 [==============================] - 1s 671us/step - loss: 0.5475 - accuracy: 0.7311\n",
      "Epoch 39/100\n",
      "804/804 [==============================] - 1s 680us/step - loss: 0.5474 - accuracy: 0.7314\n",
      "Epoch 40/100\n",
      "804/804 [==============================] - 1s 662us/step - loss: 0.5472 - accuracy: 0.7310\n",
      "Epoch 41/100\n",
      "804/804 [==============================] - 1s 678us/step - loss: 0.5474 - accuracy: 0.7321\n",
      "Epoch 42/100\n",
      "804/804 [==============================] - 1s 674us/step - loss: 0.5471 - accuracy: 0.7315\n",
      "Epoch 43/100\n",
      "804/804 [==============================] - 1s 652us/step - loss: 0.5471 - accuracy: 0.7312\n",
      "Epoch 44/100\n",
      "804/804 [==============================] - 1s 660us/step - loss: 0.5470 - accuracy: 0.7310\n",
      "Epoch 45/100\n",
      "804/804 [==============================] - 1s 687us/step - loss: 0.5469 - accuracy: 0.7320\n",
      "Epoch 46/100\n",
      "804/804 [==============================] - 1s 666us/step - loss: 0.5468 - accuracy: 0.7318\n",
      "Epoch 47/100\n",
      "804/804 [==============================] - 1s 649us/step - loss: 0.5470 - accuracy: 0.7317\n",
      "Epoch 48/100\n",
      "804/804 [==============================] - 1s 653us/step - loss: 0.5466 - accuracy: 0.7324\n",
      "Epoch 49/100\n",
      "804/804 [==============================] - 1s 694us/step - loss: 0.5467 - accuracy: 0.7320\n",
      "Epoch 50/100\n",
      "804/804 [==============================] - 1s 651us/step - loss: 0.5466 - accuracy: 0.7309\n",
      "Epoch 51/100\n",
      "804/804 [==============================] - 1s 645us/step - loss: 0.5466 - accuracy: 0.7315\n",
      "Epoch 52/100\n",
      "804/804 [==============================] - 1s 678us/step - loss: 0.5463 - accuracy: 0.7317\n",
      "Epoch 53/100\n",
      "804/804 [==============================] - 1s 682us/step - loss: 0.5464 - accuracy: 0.7324\n",
      "Epoch 54/100\n",
      "804/804 [==============================] - 1s 663us/step - loss: 0.5467 - accuracy: 0.7314\n",
      "Epoch 55/100\n",
      "804/804 [==============================] - 1s 657us/step - loss: 0.5460 - accuracy: 0.7314\n",
      "Epoch 56/100\n",
      "804/804 [==============================] - 1s 667us/step - loss: 0.5463 - accuracy: 0.7316\n",
      "Epoch 57/100\n",
      "804/804 [==============================] - 1s 676us/step - loss: 0.5461 - accuracy: 0.7325\n",
      "Epoch 58/100\n",
      "804/804 [==============================] - 1s 698us/step - loss: 0.5462 - accuracy: 0.7325\n",
      "Epoch 59/100\n",
      "804/804 [==============================] - 1s 685us/step - loss: 0.5458 - accuracy: 0.7324\n",
      "Epoch 60/100\n",
      "804/804 [==============================] - 1s 655us/step - loss: 0.5456 - accuracy: 0.7322\n",
      "Epoch 61/100\n",
      "804/804 [==============================] - 1s 652us/step - loss: 0.5461 - accuracy: 0.7327\n",
      "Epoch 62/100\n",
      "804/804 [==============================] - 1s 670us/step - loss: 0.5458 - accuracy: 0.7331\n",
      "Epoch 63/100\n",
      "804/804 [==============================] - 1s 644us/step - loss: 0.5462 - accuracy: 0.7324\n",
      "Epoch 64/100\n",
      "804/804 [==============================] - 1s 660us/step - loss: 0.5455 - accuracy: 0.7322\n",
      "Epoch 65/100\n",
      "804/804 [==============================] - 1s 650us/step - loss: 0.5457 - accuracy: 0.7330\n",
      "Epoch 66/100\n",
      "804/804 [==============================] - 1s 649us/step - loss: 0.5460 - accuracy: 0.7329\n",
      "Epoch 67/100\n",
      "804/804 [==============================] - 1s 686us/step - loss: 0.5454 - accuracy: 0.7325\n",
      "Epoch 68/100\n",
      "804/804 [==============================] - 1s 660us/step - loss: 0.5458 - accuracy: 0.7319\n",
      "Epoch 69/100\n",
      "804/804 [==============================] - 1s 664us/step - loss: 0.5455 - accuracy: 0.7322\n",
      "Epoch 70/100\n",
      "804/804 [==============================] - 1s 634us/step - loss: 0.5455 - accuracy: 0.7316\n",
      "Epoch 71/100\n",
      "804/804 [==============================] - 1s 643us/step - loss: 0.5457 - accuracy: 0.7320\n",
      "Epoch 72/100\n",
      "804/804 [==============================] - 1s 645us/step - loss: 0.5455 - accuracy: 0.7328\n",
      "Epoch 73/100\n",
      "804/804 [==============================] - 1s 659us/step - loss: 0.5454 - accuracy: 0.7326\n",
      "Epoch 74/100\n",
      "804/804 [==============================] - 1s 656us/step - loss: 0.5452 - accuracy: 0.7325\n",
      "Epoch 75/100\n"
     ]
    },
    {
     "name": "stdout",
     "output_type": "stream",
     "text": [
      "804/804 [==============================] - 1s 646us/step - loss: 0.5457 - accuracy: 0.7329\n",
      "Epoch 76/100\n",
      "804/804 [==============================] - 1s 659us/step - loss: 0.5453 - accuracy: 0.7324\n",
      "Epoch 77/100\n",
      "804/804 [==============================] - 1s 659us/step - loss: 0.5455 - accuracy: 0.7329\n",
      "Epoch 78/100\n",
      "804/804 [==============================] - 1s 672us/step - loss: 0.5449 - accuracy: 0.7330\n",
      "Epoch 79/100\n",
      "804/804 [==============================] - 1s 651us/step - loss: 0.5453 - accuracy: 0.7334\n",
      "Epoch 80/100\n",
      "804/804 [==============================] - 1s 650us/step - loss: 0.5454 - accuracy: 0.7327\n",
      "Epoch 81/100\n",
      "804/804 [==============================] - 1s 649us/step - loss: 0.5449 - accuracy: 0.7329\n",
      "Epoch 82/100\n",
      "804/804 [==============================] - 1s 634us/step - loss: 0.5452 - accuracy: 0.7326\n",
      "Epoch 83/100\n",
      "804/804 [==============================] - 1s 652us/step - loss: 0.5453 - accuracy: 0.7329\n",
      "Epoch 84/100\n",
      "804/804 [==============================] - 1s 632us/step - loss: 0.5451 - accuracy: 0.7324\n",
      "Epoch 85/100\n",
      "804/804 [==============================] - 1s 666us/step - loss: 0.5449 - accuracy: 0.7331\n",
      "Epoch 86/100\n",
      "804/804 [==============================] - 1s 656us/step - loss: 0.5450 - accuracy: 0.7332\n",
      "Epoch 87/100\n",
      "804/804 [==============================] - 1s 693us/step - loss: 0.5449 - accuracy: 0.7330\n",
      "Epoch 88/100\n",
      "804/804 [==============================] - 1s 647us/step - loss: 0.5448 - accuracy: 0.7334\n",
      "Epoch 89/100\n",
      "804/804 [==============================] - 1s 731us/step - loss: 0.5449 - accuracy: 0.7329\n",
      "Epoch 90/100\n",
      "804/804 [==============================] - 1s 819us/step - loss: 0.5449 - accuracy: 0.7327\n",
      "Epoch 91/100\n",
      "804/804 [==============================] - 1s 819us/step - loss: 0.5449 - accuracy: 0.7340\n",
      "Epoch 92/100\n",
      "804/804 [==============================] - 1s 658us/step - loss: 0.5450 - accuracy: 0.7332\n",
      "Epoch 93/100\n",
      "804/804 [==============================] - 1s 677us/step - loss: 0.5446 - accuracy: 0.7335\n",
      "Epoch 94/100\n",
      "804/804 [==============================] - 1s 640us/step - loss: 0.5445 - accuracy: 0.7338\n",
      "Epoch 95/100\n",
      "804/804 [==============================] - 1s 653us/step - loss: 0.5448 - accuracy: 0.7332\n",
      "Epoch 96/100\n",
      "804/804 [==============================] - 1s 658us/step - loss: 0.5445 - accuracy: 0.7331\n",
      "Epoch 97/100\n",
      "804/804 [==============================] - 1s 660us/step - loss: 0.5445 - accuracy: 0.7331\n",
      "Epoch 98/100\n",
      "804/804 [==============================] - 1s 644us/step - loss: 0.5445 - accuracy: 0.7331\n",
      "Epoch 99/100\n",
      "804/804 [==============================] - 1s 638us/step - loss: 0.5446 - accuracy: 0.7332\n",
      "Epoch 100/100\n",
      "804/804 [==============================] - 1s 643us/step - loss: 0.5446 - accuracy: 0.7324\n"
     ]
    }
   ],
   "source": [
    "# Train the model\n",
    "fit_model = nn.fit(X_train_scaled,y_train,epochs=100)"
   ]
  },
  {
   "cell_type": "code",
   "execution_count": 18,
   "metadata": {
    "id": "qqz4rjxWdbod"
   },
   "outputs": [
    {
     "name": "stdout",
     "output_type": "stream",
     "text": [
      "268/268 - 0s - loss: 0.5559 - accuracy: 0.7291 - 222ms/epoch - 828us/step\n",
      "Loss: 0.5559157133102417, Accuracy: 0.7290962338447571\n"
     ]
    }
   ],
   "source": [
    "# Evaluate the model using the test data\n",
    "model_loss, model_accuracy = nn.evaluate(X_test_scaled,y_test,verbose=2)\n",
    "print(f\"Loss: {model_loss}, Accuracy: {model_accuracy}\")"
   ]
  },
  {
   "cell_type": "markdown",
   "metadata": {
    "id": "R5Z28z6ksv0V"
   },
   "source": [
    "Second Attempt"
   ]
  },
  {
   "cell_type": "code",
   "execution_count": 19,
   "metadata": {
    "id": "FhIQj_XXsgPe"
   },
   "outputs": [
    {
     "name": "stdout",
     "output_type": "stream",
     "text": [
      "Model: \"sequential_1\"\n",
      "_________________________________________________________________\n",
      " Layer (type)                Output Shape              Param #   \n",
      "=================================================================\n",
      " dense_3 (Dense)             (None, 40)                1760      \n",
      "                                                                 \n",
      " dense_4 (Dense)             (None, 35)                1435      \n",
      "                                                                 \n",
      " dense_5 (Dense)             (None, 15)                540       \n",
      "                                                                 \n",
      " dense_6 (Dense)             (None, 1)                 16        \n",
      "                                                                 \n",
      "=================================================================\n",
      "Total params: 3751 (14.65 KB)\n",
      "Trainable params: 3751 (14.65 KB)\n",
      "Non-trainable params: 0 (0.00 Byte)\n",
      "_________________________________________________________________\n"
     ]
    }
   ],
   "source": [
    "input_features2 = X_train_scaled.shape[1]\n",
    "input_features2\n",
    "hidden_nodes_layersecond1 =  40\n",
    "hidden_nodes_layersecond2 = 35\n",
    "hidden_nodes_layersecond3 = 15\n",
    "nn = tf.keras.models.Sequential()\n",
    "\n",
    "# First hidden layer\n",
    "nn.add(tf.keras.layers.Dense(units=hidden_nodes_layersecond1, activation=\"relu\", input_dim=input_features2))\n",
    "\n",
    "# Second hidden layer\n",
    "nn.add(tf.keras.layers.Dense(units=hidden_nodes_layersecond2, activation=\"relu\"))\n",
    "\n",
    "# Third hidden layer\n",
    "nn.add(tf.keras.layers.Dense(units=hidden_nodes_layersecond3, activation=\"relu\"))\n",
    "\n",
    "# Output layer\n",
    "nn.add(tf.keras.layers.Dense(units=1, activation=\"sigmoid\"))\n",
    "\n",
    "# Check the structure of the model\n",
    "nn.summary()"
   ]
  },
  {
   "cell_type": "code",
   "execution_count": 20,
   "metadata": {
    "id": "UZekAR3BtDfn"
   },
   "outputs": [],
   "source": [
    "# Compile the model\n",
    "nn.compile(loss=\"binary_crossentropy\", optimizer=\"adam\", metrics=[\"accuracy\"])"
   ]
  },
  {
   "cell_type": "code",
   "execution_count": null,
   "metadata": {
    "id": "o6zZyOoFs9EG"
   },
   "outputs": [
    {
     "name": "stdout",
     "output_type": "stream",
     "text": [
      "Epoch 1/100\n",
      "804/804 [==============================] - 1s 697us/step - loss: 0.5735 - accuracy: 0.7158\n",
      "Epoch 2/100\n",
      "804/804 [==============================] - 1s 702us/step - loss: 0.5552 - accuracy: 0.7285\n",
      "Epoch 3/100\n",
      "804/804 [==============================] - 1s 689us/step - loss: 0.5518 - accuracy: 0.7319\n",
      "Epoch 4/100\n",
      "804/804 [==============================] - 1s 686us/step - loss: 0.5499 - accuracy: 0.7321\n",
      "Epoch 5/100\n",
      "804/804 [==============================] - 1s 687us/step - loss: 0.5489 - accuracy: 0.7318\n",
      "Epoch 6/100\n",
      "804/804 [==============================] - 1s 703us/step - loss: 0.5483 - accuracy: 0.7337\n",
      "Epoch 7/100\n",
      "804/804 [==============================] - 1s 694us/step - loss: 0.5476 - accuracy: 0.7327\n",
      "Epoch 8/100\n",
      "804/804 [==============================] - 1s 689us/step - loss: 0.5467 - accuracy: 0.7345\n",
      "Epoch 9/100\n",
      "804/804 [==============================] - 1s 701us/step - loss: 0.5467 - accuracy: 0.7322\n",
      "Epoch 10/100\n",
      "804/804 [==============================] - 1s 717us/step - loss: 0.5451 - accuracy: 0.7334\n",
      "Epoch 11/100\n",
      "804/804 [==============================] - 1s 694us/step - loss: 0.5453 - accuracy: 0.7336\n",
      "Epoch 12/100\n",
      "804/804 [==============================] - 1s 770us/step - loss: 0.5455 - accuracy: 0.7342\n",
      "Epoch 13/100\n",
      "804/804 [==============================] - 1s 968us/step - loss: 0.5446 - accuracy: 0.7339\n",
      "Epoch 14/100\n",
      "804/804 [==============================] - 1s 868us/step - loss: 0.5440 - accuracy: 0.7360\n",
      "Epoch 15/100\n",
      "804/804 [==============================] - 1s 807us/step - loss: 0.5438 - accuracy: 0.7349\n",
      "Epoch 16/100\n",
      "804/804 [==============================] - 1s 907us/step - loss: 0.5434 - accuracy: 0.7351\n",
      "Epoch 17/100\n",
      "804/804 [==============================] - 1s 822us/step - loss: 0.5433 - accuracy: 0.7348\n",
      "Epoch 18/100\n",
      "804/804 [==============================] - 1s 823us/step - loss: 0.5429 - accuracy: 0.7363\n",
      "Epoch 19/100\n",
      "804/804 [==============================] - 1s 769us/step - loss: 0.5426 - accuracy: 0.7336\n",
      "Epoch 20/100\n",
      "804/804 [==============================] - 1s 718us/step - loss: 0.5427 - accuracy: 0.7355\n",
      "Epoch 21/100\n",
      "804/804 [==============================] - 1s 725us/step - loss: 0.5422 - accuracy: 0.7367\n",
      "Epoch 22/100\n",
      "804/804 [==============================] - 1s 750us/step - loss: 0.5417 - accuracy: 0.7371\n",
      "Epoch 23/100\n",
      "804/804 [==============================] - 1s 730us/step - loss: 0.5419 - accuracy: 0.7358\n",
      "Epoch 24/100\n",
      "804/804 [==============================] - 1s 720us/step - loss: 0.5412 - accuracy: 0.7361\n",
      "Epoch 25/100\n",
      "804/804 [==============================] - 1s 713us/step - loss: 0.5414 - accuracy: 0.7361\n",
      "Epoch 26/100\n",
      "804/804 [==============================] - 1s 737us/step - loss: 0.5414 - accuracy: 0.7354\n",
      "Epoch 27/100\n",
      "804/804 [==============================] - 1s 719us/step - loss: 0.5408 - accuracy: 0.7367\n",
      "Epoch 28/100\n",
      "804/804 [==============================] - 1s 715us/step - loss: 0.5406 - accuracy: 0.7367\n",
      "Epoch 29/100\n",
      "804/804 [==============================] - 1s 704us/step - loss: 0.5399 - accuracy: 0.7356\n",
      "Epoch 30/100\n",
      "804/804 [==============================] - 1s 707us/step - loss: 0.5399 - accuracy: 0.7376\n",
      "Epoch 31/100\n",
      "804/804 [==============================] - 1s 694us/step - loss: 0.5404 - accuracy: 0.7373\n",
      "Epoch 32/100\n",
      "804/804 [==============================] - 1s 705us/step - loss: 0.5401 - accuracy: 0.7372\n",
      "Epoch 33/100\n",
      "804/804 [==============================] - 1s 690us/step - loss: 0.5395 - accuracy: 0.7372\n",
      "Epoch 34/100\n",
      "804/804 [==============================] - 1s 698us/step - loss: 0.5395 - accuracy: 0.7369\n",
      "Epoch 35/100\n",
      "804/804 [==============================] - 1s 719us/step - loss: 0.5393 - accuracy: 0.7377\n",
      "Epoch 36/100\n",
      "804/804 [==============================] - 1s 711us/step - loss: 0.5396 - accuracy: 0.7369\n",
      "Epoch 37/100\n",
      "804/804 [==============================] - 1s 694us/step - loss: 0.5389 - accuracy: 0.7385\n",
      "Epoch 38/100\n",
      "804/804 [==============================] - 1s 691us/step - loss: 0.5392 - accuracy: 0.7376\n",
      "Epoch 39/100\n",
      "804/804 [==============================] - 1s 692us/step - loss: 0.5391 - accuracy: 0.7366\n",
      "Epoch 40/100\n",
      "804/804 [==============================] - 1s 712us/step - loss: 0.5390 - accuracy: 0.7373\n",
      "Epoch 41/100\n",
      "804/804 [==============================] - 1s 709us/step - loss: 0.5389 - accuracy: 0.7376\n",
      "Epoch 42/100\n",
      "804/804 [==============================] - 1s 745us/step - loss: 0.5388 - accuracy: 0.7370\n",
      "Epoch 43/100\n",
      "804/804 [==============================] - 1s 707us/step - loss: 0.5383 - accuracy: 0.7387\n",
      "Epoch 44/100\n",
      "804/804 [==============================] - 1s 702us/step - loss: 0.5385 - accuracy: 0.7380\n",
      "Epoch 45/100\n",
      "804/804 [==============================] - 1s 688us/step - loss: 0.5381 - accuracy: 0.7388\n",
      "Epoch 46/100\n",
      "804/804 [==============================] - 1s 691us/step - loss: 0.5386 - accuracy: 0.7382\n",
      "Epoch 47/100\n",
      "804/804 [==============================] - 1s 751us/step - loss: 0.5381 - accuracy: 0.7379\n",
      "Epoch 48/100\n",
      "804/804 [==============================] - 1s 720us/step - loss: 0.5381 - accuracy: 0.7387\n",
      "Epoch 49/100\n",
      "804/804 [==============================] - 1s 720us/step - loss: 0.5376 - accuracy: 0.7387\n",
      "Epoch 50/100\n",
      "804/804 [==============================] - 1s 716us/step - loss: 0.5378 - accuracy: 0.7384\n",
      "Epoch 51/100\n",
      "804/804 [==============================] - 1s 687us/step - loss: 0.5379 - accuracy: 0.7386\n",
      "Epoch 52/100\n",
      "804/804 [==============================] - 1s 689us/step - loss: 0.5378 - accuracy: 0.7387\n",
      "Epoch 53/100\n",
      "804/804 [==============================] - 1s 691us/step - loss: 0.5371 - accuracy: 0.7388\n",
      "Epoch 54/100\n",
      "804/804 [==============================] - 1s 692us/step - loss: 0.5377 - accuracy: 0.7377\n",
      "Epoch 55/100\n",
      "804/804 [==============================] - 1s 688us/step - loss: 0.5372 - accuracy: 0.7383\n",
      "Epoch 56/100\n",
      "804/804 [==============================] - 1s 696us/step - loss: 0.5372 - accuracy: 0.7386\n",
      "Epoch 57/100\n",
      "804/804 [==============================] - 1s 685us/step - loss: 0.5371 - accuracy: 0.7390\n",
      "Epoch 58/100\n",
      "804/804 [==============================] - 1s 715us/step - loss: 0.5371 - accuracy: 0.7399\n",
      "Epoch 59/100\n",
      "804/804 [==============================] - 1s 723us/step - loss: 0.5372 - accuracy: 0.7390\n",
      "Epoch 60/100\n",
      "804/804 [==============================] - 1s 720us/step - loss: 0.5365 - accuracy: 0.7388\n",
      "Epoch 61/100\n",
      "804/804 [==============================] - 1s 723us/step - loss: 0.5367 - accuracy: 0.7393\n",
      "Epoch 62/100\n",
      "804/804 [==============================] - 1s 711us/step - loss: 0.5369 - accuracy: 0.7386\n",
      "Epoch 63/100\n",
      "804/804 [==============================] - 1s 759us/step - loss: 0.5366 - accuracy: 0.7388\n",
      "Epoch 64/100\n",
      "804/804 [==============================] - 1s 700us/step - loss: 0.5366 - accuracy: 0.7385\n",
      "Epoch 65/100\n",
      "804/804 [==============================] - 1s 721us/step - loss: 0.5365 - accuracy: 0.7384\n",
      "Epoch 66/100\n",
      "804/804 [==============================] - 1s 690us/step - loss: 0.5360 - accuracy: 0.7390\n",
      "Epoch 67/100\n",
      "804/804 [==============================] - 1s 712us/step - loss: 0.5367 - accuracy: 0.7374\n",
      "Epoch 68/100\n",
      "804/804 [==============================] - 1s 723us/step - loss: 0.5362 - accuracy: 0.7385\n",
      "Epoch 69/100\n",
      "804/804 [==============================] - 1s 725us/step - loss: 0.5360 - accuracy: 0.7403\n",
      "Epoch 70/100\n",
      "804/804 [==============================] - 1s 711us/step - loss: 0.5360 - accuracy: 0.7400\n",
      "Epoch 71/100\n",
      "804/804 [==============================] - 1s 747us/step - loss: 0.5362 - accuracy: 0.7385\n",
      "Epoch 72/100\n",
      "804/804 [==============================] - 1s 726us/step - loss: 0.5358 - accuracy: 0.7393\n",
      "Epoch 73/100\n",
      "804/804 [==============================] - 1s 719us/step - loss: 0.5359 - accuracy: 0.7395\n",
      "Epoch 74/100\n",
      "804/804 [==============================] - 1s 732us/step - loss: 0.5357 - accuracy: 0.7392\n",
      "Epoch 75/100\n",
      "804/804 [==============================] - 1s 733us/step - loss: 0.5361 - accuracy: 0.7397\n",
      "Epoch 76/100\n",
      "804/804 [==============================] - 1s 802us/step - loss: 0.5358 - accuracy: 0.7388\n",
      "Epoch 77/100\n",
      "804/804 [==============================] - 1s 722us/step - loss: 0.5359 - accuracy: 0.7392\n",
      "Epoch 78/100\n",
      "804/804 [==============================] - 1s 719us/step - loss: 0.5357 - accuracy: 0.7399\n",
      "Epoch 79/100\n"
     ]
    },
    {
     "name": "stdout",
     "output_type": "stream",
     "text": [
      "804/804 [==============================] - 1s 736us/step - loss: 0.5357 - accuracy: 0.7393\n",
      "Epoch 80/100\n",
      "804/804 [==============================] - 1s 746us/step - loss: 0.5346 - accuracy: 0.7396\n",
      "Epoch 81/100\n",
      "804/804 [==============================] - 1s 708us/step - loss: 0.5359 - accuracy: 0.7390\n",
      "Epoch 82/100\n",
      "804/804 [==============================] - 1s 719us/step - loss: 0.5353 - accuracy: 0.7393\n",
      "Epoch 83/100\n",
      "804/804 [==============================] - 1s 728us/step - loss: 0.5349 - accuracy: 0.7394\n",
      "Epoch 84/100\n",
      "804/804 [==============================] - 1s 707us/step - loss: 0.5358 - accuracy: 0.7395\n",
      "Epoch 85/100\n",
      "804/804 [==============================] - 1s 696us/step - loss: 0.5352 - accuracy: 0.7389\n",
      "Epoch 86/100\n",
      "804/804 [==============================] - 1s 709us/step - loss: 0.5353 - accuracy: 0.7393\n",
      "Epoch 87/100\n",
      "804/804 [==============================] - 1s 720us/step - loss: 0.5347 - accuracy: 0.7404\n",
      "Epoch 88/100\n",
      "804/804 [==============================] - 1s 706us/step - loss: 0.5355 - accuracy: 0.7390\n",
      "Epoch 89/100\n",
      "804/804 [==============================] - 1s 699us/step - loss: 0.5351 - accuracy: 0.7406\n",
      "Epoch 90/100\n",
      "804/804 [==============================] - 1s 717us/step - loss: 0.5350 - accuracy: 0.7393\n",
      "Epoch 91/100\n",
      "804/804 [==============================] - 1s 714us/step - loss: 0.5348 - accuracy: 0.7390\n",
      "Epoch 92/100\n",
      "361/804 [============>.................] - ETA: 0s - loss: 0.5352 - accuracy: 0.7386"
     ]
    }
   ],
   "source": [
    "# Train the model\n",
    "fit_model = nn.fit(X_train_scaled,y_train,epochs=100)"
   ]
  },
  {
   "cell_type": "code",
   "execution_count": null,
   "metadata": {
    "id": "XdD5Qu9gt9LE"
   },
   "outputs": [],
   "source": [
    "model_loss, model_accuracy = nn.evaluate(X_test_scaled,y_test,verbose=2)\n",
    "print(f\"Loss: {model_loss}, Accuracy: {model_accuracy}\")"
   ]
  },
  {
   "cell_type": "markdown",
   "metadata": {
    "id": "XSHex59s067P"
   },
   "source": [
    "Third Attempt"
   ]
  },
  {
   "cell_type": "code",
   "execution_count": null,
   "metadata": {
    "id": "8U0er4cH08P9"
   },
   "outputs": [],
   "source": [
    "input_features3 = X_train_scaled.shape[1]\n",
    "input_features3\n",
    "hidden_nodes_layerthird1 =  37\n",
    "hidden_nodes_layerthird2 = 27\n",
    "hidden_nodes_layerthird3 = 17\n",
    "hidden_nodes_layerthird4 = 7\n",
    "nn = tf.keras.models.Sequential()\n",
    "\n",
    "# First hidden layer\n",
    "nn.add(tf.keras.layers.Dense(units=hidden_nodes_layerthird1, activation=\"relu\", input_dim=input_features2))\n",
    "\n",
    "# Second hidden layer\n",
    "nn.add(tf.keras.layers.Dense(units=hidden_nodes_layerthird2, activation=\"relu\"))\n",
    "\n",
    "# Third hidden layer\n",
    "nn.add(tf.keras.layers.Dense(units=hidden_nodes_layerthird3, activation=\"relu\"))\n",
    "\n",
    "# Fourth hidden layer\n",
    "nn.add(tf.keras.layers.Dense(units=hidden_nodes_layerthird3, activation=\"tanh\"))\n",
    "\n",
    "# Output layer\n",
    "nn.add(tf.keras.layers.Dense(units=1, activation=\"sigmoid\"))\n",
    "\n",
    "# Check the structure of the model\n",
    "nn.summary()"
   ]
  },
  {
   "cell_type": "code",
   "execution_count": null,
   "metadata": {
    "id": "roslKOcq1lg8"
   },
   "outputs": [],
   "source": [
    "# Compile the model\n",
    "nn.compile(loss=\"binary_crossentropy\", optimizer=\"adam\", metrics=[\"accuracy\"])"
   ]
  },
  {
   "cell_type": "code",
   "execution_count": null,
   "metadata": {
    "id": "d5Ty_fJR1gVb"
   },
   "outputs": [],
   "source": [
    "# Train the model\n",
    "fit_model = nn.fit(X_train_scaled,y_train,epochs=100)"
   ]
  },
  {
   "cell_type": "code",
   "execution_count": null,
   "metadata": {
    "id": "uKx9bNFm1jAA"
   },
   "outputs": [],
   "source": [
    "model_loss, model_accuracy = nn.evaluate(X_test_scaled,y_test,verbose=2)\n",
    "print(f\"Loss: {model_loss}, Accuracy: {model_accuracy}\")"
   ]
  },
  {
   "cell_type": "code",
   "execution_count": null,
   "metadata": {
    "id": "qkIwTOCRdboe"
   },
   "outputs": [],
   "source": [
    "# Export our model to HDF5 file\n",
    "filepath = r\"C:\\Users\\Spencer Auslander\\deep-learning-challenge\\AlphabetSoupCharity_Optimization.h5\"\n",
    "nn.save(filepath, save_format='h5')"
   ]
  }
 ],
 "metadata": {
  "colab": {
   "provenance": []
  },
  "kernelspec": {
   "display_name": "Python 3 (ipykernel)",
   "language": "python",
   "name": "python3"
  },
  "language_info": {
   "codemirror_mode": {
    "name": "ipython",
    "version": 3
   },
   "file_extension": ".py",
   "mimetype": "text/x-python",
   "name": "python",
   "nbconvert_exporter": "python",
   "pygments_lexer": "ipython3",
   "version": "3.10.9"
  },
  "vscode": {
   "interpreter": {
    "hash": "31f2aee4e71d21fbe5cf8b01ff0e069b9275f58929596ceb00d14d90e3e16cd6"
   }
  }
 },
 "nbformat": 4,
 "nbformat_minor": 1
}
